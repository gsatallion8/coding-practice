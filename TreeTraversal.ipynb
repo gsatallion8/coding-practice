{
 "cells": [
  {
   "cell_type": "code",
   "execution_count": 1,
   "metadata": {},
   "outputs": [],
   "source": [
    "import numpy as np"
   ]
  },
  {
   "cell_type": "code",
   "execution_count": 3,
   "metadata": {},
   "outputs": [
    {
     "data": {
      "text/plain": [
       "[1, 2, 3]"
      ]
     },
     "execution_count": 3,
     "metadata": {},
     "output_type": "execute_result"
    }
   ],
   "source": [
    "a = [1,2,3,4]\n",
    "a.remove(4)\n",
    "a"
   ]
  },
  {
   "cell_type": "code",
   "execution_count": 14,
   "metadata": {},
   "outputs": [],
   "source": [
    "adj_list = [[1,2], [2,3,4], [3,5], [], [6], [], []]"
   ]
  },
  {
   "cell_type": "code",
   "execution_count": 17,
   "metadata": {},
   "outputs": [],
   "source": [
    "def BFS(adj_list, i):\n",
    "    L = adj_list[i]\n",
    "    visited = np.zeros(len(adj_list))\n",
    "    d = np.zeros(len(adj_list))\n",
    "    visited[i] = 1\n",
    "    count = 0\n",
    "    while len(L)!=0:\n",
    "        count+=1\n",
    "        n = len(L)\n",
    "        for j in range(n):\n",
    "            visited[L[j]] = 1\n",
    "            d[L[j]] = count\n",
    "            Nb = adj_list[L[j]]\n",
    "        \n",
    "        L_new = []\n",
    "        for j in range(n):\n",
    "            visited[L[j]] = 1\n",
    "            d[L[j]] = count\n",
    "            Nb = adj_list[L[j]]\n",
    "            for k in range(len(Nb)):\n",
    "                if(visited[Nb[k]] ==0):\n",
    "                    visited[Nb[k]] = 1\n",
    "                    L_new.append(Nb[k])\n",
    "        L = L_new\n",
    "    return d"
   ]
  },
  {
   "cell_type": "code",
   "execution_count": 18,
   "metadata": {},
   "outputs": [
    {
     "data": {
      "text/plain": [
       "array([0., 1., 1., 2., 2., 2., 3.])"
      ]
     },
     "execution_count": 18,
     "metadata": {},
     "output_type": "execute_result"
    }
   ],
   "source": [
    "BFS(adj_list, 0)"
   ]
  },
  {
   "cell_type": "code",
   "execution_count": 41,
   "metadata": {},
   "outputs": [],
   "source": [
    "def BinarySearch(array, x):\n",
    "    n = array.shape[0]\n",
    "    l = 0\n",
    "    r = n-1\n",
    "    while(l<=r):\n",
    "        m = int((l+r)/2)\n",
    "        if(array[m]>x):\n",
    "            l = m+1\n",
    "        elif(array[m]<x):\n",
    "            r = m-1\n",
    "        else:\n",
    "            return m\n",
    "    return -1"
   ]
  },
  {
   "cell_type": "code",
   "execution_count": 42,
   "metadata": {},
   "outputs": [
    {
     "data": {
      "text/plain": [
       "1"
      ]
     },
     "execution_count": 42,
     "metadata": {},
     "output_type": "execute_result"
    }
   ],
   "source": [
    "array = np.array([9,8,7,5,4,1])\n",
    "x = 8\n",
    "BinarySearch(array,x)"
   ]
  },
  {
   "cell_type": "code",
   "execution_count": 1,
   "metadata": {},
   "outputs": [],
   "source": [
    "class Node:\n",
    "    def __init__(self, val):\n",
    "        self.val = val\n",
    "        self.left = None\n",
    "        self.right = None\n",
    "    \n",
    "    def add_left_branch(self, val):\n",
    "        self.left = Node(val)\n",
    "        \n",
    "        return self.left\n",
    "    \n",
    "    def add_right_branch(self, val):\n",
    "        self.right = Node(val)\n",
    "        \n",
    "        return self.right"
   ]
  },
  {
   "cell_type": "code",
   "execution_count": 2,
   "metadata": {},
   "outputs": [],
   "source": [
    "root_node = Node(0)"
   ]
  },
  {
   "cell_type": "code",
   "execution_count": 7,
   "metadata": {},
   "outputs": [],
   "source": [
    "l = root_node.add_left_branch(1)\n",
    "r = root_node.add_right_branch(2)"
   ]
  },
  {
   "cell_type": "code",
   "execution_count": 9,
   "metadata": {},
   "outputs": [],
   "source": [
    "ll = l.add_left_branch(3)\n",
    "lr = l.add_right_branch(4)"
   ]
  },
  {
   "cell_type": "code",
   "execution_count": 10,
   "metadata": {},
   "outputs": [],
   "source": [
    "def breadth_first_traversal(root):\n",
    "    current_list = [root]\n",
    "    val_list = []\n",
    "    \n",
    "    while len(current_list)!=0:\n",
    "        new_list = []\n",
    "        for node in current_list:\n",
    "            val_list.append(node.val)\n",
    "            if node.left != None:\n",
    "                new_list.append(node.left)\n",
    "            if node.right != None:\n",
    "                new_list.append(node.right)\n",
    "        \n",
    "        current_list = new_list\n",
    "    \n",
    "    return val_list        "
   ]
  },
  {
   "cell_type": "code",
   "execution_count": 11,
   "metadata": {},
   "outputs": [
    {
     "data": {
      "text/plain": [
       "[0, 1, 2, 3, 4]"
      ]
     },
     "execution_count": 11,
     "metadata": {},
     "output_type": "execute_result"
    }
   ],
   "source": [
    "breadth_first_traversal(root_node)"
   ]
  },
  {
   "cell_type": "code",
   "execution_count": 12,
   "metadata": {},
   "outputs": [],
   "source": [
    "def post_order_traversal(root):\n",
    "    queue = []\n",
    "    if root.left != None:\n",
    "        queue.extend(post_order_traversal(root.left))\n",
    "    if root.right != None:\n",
    "        queue.extend(post_order_traversal(root.right))\n",
    "    queue.append(root)\n",
    "    \n",
    "    return queue"
   ]
  },
  {
   "cell_type": "code",
   "execution_count": 15,
   "metadata": {},
   "outputs": [],
   "source": [
    "node_list = post_order_traversal(root_node)"
   ]
  },
  {
   "cell_type": "code",
   "execution_count": 16,
   "metadata": {},
   "outputs": [
    {
     "name": "stdout",
     "output_type": "stream",
     "text": [
      "3\n",
      "4\n",
      "1\n",
      "2\n",
      "0\n"
     ]
    }
   ],
   "source": [
    "for node in node_list:\n",
    "    print(node.val)"
   ]
  },
  {
   "cell_type": "code",
   "execution_count": 20,
   "metadata": {},
   "outputs": [],
   "source": [
    "def pre_order_traversal(root):\n",
    "    queue = []\n",
    "    queue.append(root)\n",
    "    if root.left != None:\n",
    "        queue.extend(pre_order_traversal(root.left))\n",
    "    if root.right != None:\n",
    "        queue.extend(pre_order_traversal(root.right))\n",
    "    \n",
    "    return queue"
   ]
  },
  {
   "cell_type": "code",
   "execution_count": 21,
   "metadata": {},
   "outputs": [],
   "source": [
    "node_list = pre_order_traversal(root_node)"
   ]
  },
  {
   "cell_type": "code",
   "execution_count": 22,
   "metadata": {},
   "outputs": [
    {
     "name": "stdout",
     "output_type": "stream",
     "text": [
      "0\n",
      "1\n",
      "3\n",
      "4\n",
      "2\n"
     ]
    }
   ],
   "source": [
    "for node in node_list:\n",
    "    print(node.val)"
   ]
  },
  {
   "cell_type": "code",
   "execution_count": 23,
   "metadata": {},
   "outputs": [],
   "source": [
    "def in_order_traversal(root):\n",
    "    queue = []\n",
    "    if root.left != None:\n",
    "        queue.extend(in_order_traversal(root.left))\n",
    "    queue.append(root)\n",
    "    if root.right != None:\n",
    "        queue.extend(in_order_traversal(root.right))\n",
    "    \n",
    "    return queue"
   ]
  },
  {
   "cell_type": "code",
   "execution_count": 24,
   "metadata": {},
   "outputs": [],
   "source": [
    "node_list = in_order_traversal(root_node)"
   ]
  },
  {
   "cell_type": "code",
   "execution_count": 25,
   "metadata": {},
   "outputs": [
    {
     "name": "stdout",
     "output_type": "stream",
     "text": [
      "3\n",
      "1\n",
      "4\n",
      "0\n",
      "2\n"
     ]
    }
   ],
   "source": [
    "for node in node_list:\n",
    "    print(node.val)"
   ]
  },
  {
   "cell_type": "code",
   "execution_count": null,
   "metadata": {},
   "outputs": [],
   "source": []
  }
 ],
 "metadata": {
  "kernelspec": {
   "display_name": "Python 3",
   "language": "python",
   "name": "python3"
  },
  "language_info": {
   "codemirror_mode": {
    "name": "ipython",
    "version": 3
   },
   "file_extension": ".py",
   "mimetype": "text/x-python",
   "name": "python",
   "nbconvert_exporter": "python",
   "pygments_lexer": "ipython3",
   "version": "3.5.2"
  }
 },
 "nbformat": 4,
 "nbformat_minor": 2
}
