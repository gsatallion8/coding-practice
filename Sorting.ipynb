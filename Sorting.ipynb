{
 "cells": [
  {
   "cell_type": "code",
   "execution_count": 3,
   "metadata": {},
   "outputs": [],
   "source": [
    "import numpy as np"
   ]
  },
  {
   "cell_type": "code",
   "execution_count": 2,
   "metadata": {},
   "outputs": [],
   "source": [
    "def selection_sort(array):\n",
    "    n = array.shape[0]\n",
    "    for i in range(n):\n",
    "        max_i = array[i]\n",
    "        swap_index = i\n",
    "        for j in range(i,n):\n",
    "            if(array[j]>max_i):\n",
    "                max_i = array[j]\n",
    "                swap_index = j\n",
    "        \n",
    "        temp = array[i]\n",
    "        array[i] = array[swap_index]\n",
    "        array[swap_index] = temp\n",
    "        \n",
    "    return array"
   ]
  },
  {
   "cell_type": "code",
   "execution_count": 4,
   "metadata": {},
   "outputs": [
    {
     "data": {
      "text/plain": [
       "array([6, 5, 3, 3, 2])"
      ]
     },
     "execution_count": 4,
     "metadata": {},
     "output_type": "execute_result"
    }
   ],
   "source": [
    "array = np.array([2,3,5,3,6])\n",
    "selection_sort(array)"
   ]
  },
  {
   "cell_type": "code",
   "execution_count": 10,
   "metadata": {},
   "outputs": [],
   "source": [
    "def insertion_sort(array):\n",
    "    n = array.shape[0]\n",
    "    for i in range(n):\n",
    "        j_temp = i\n",
    "        temp = array[i]\n",
    "        for j in range(i):\n",
    "            if(array[i]>array[j]):\n",
    "                j_temp = j\n",
    "                break\n",
    "        for k in range(i,j_temp,-1):\n",
    "            array[k] = array[k-1]\n",
    "        array[j_temp] = temp\n",
    "    return array"
   ]
  },
  {
   "cell_type": "code",
   "execution_count": 11,
   "metadata": {},
   "outputs": [
    {
     "data": {
      "text/plain": [
       "array([6, 5, 3, 3, 2])"
      ]
     },
     "execution_count": 11,
     "metadata": {},
     "output_type": "execute_result"
    }
   ],
   "source": [
    "array = np.array([2,3,5,3,6])\n",
    "insertion_sort(array)"
   ]
  },
  {
   "cell_type": "code",
   "execution_count": 41,
   "metadata": {},
   "outputs": [],
   "source": [
    "def merge(array1, array2):\n",
    "    n1 = array1.shape[0]\n",
    "    n2 = array2.shape[0]\n",
    "    array = np.zeros(n1+n2, dtype = int)\n",
    "    i1 = 0\n",
    "    i2 = 0\n",
    "    for i in range(n2+n1):\n",
    "        if(i1>=n1):\n",
    "            array[i] = array2[i2]\n",
    "            i2+=1\n",
    "        elif(i2>=n2):\n",
    "            array[i] = array1[i1]\n",
    "            i1+=1\n",
    "        elif(array1[i1]>array2[i2]):\n",
    "            array[i] = array1[i1]\n",
    "            i1+=1\n",
    "        else:\n",
    "            array[i] = array2[i2]\n",
    "            i2+=1\n",
    "    return array"
   ]
  },
  {
   "cell_type": "code",
   "execution_count": 44,
   "metadata": {},
   "outputs": [],
   "source": [
    "def merge_sort(array):\n",
    "    n = array.shape[0]\n",
    "    if n == 1:\n",
    "        return array\n",
    "    else:\n",
    "        m = int((n-1)/2)\n",
    "        return merge(merge_sort(array[0:m+1]), merge_sort(array[m+1:n]))"
   ]
  },
  {
   "cell_type": "code",
   "execution_count": 45,
   "metadata": {},
   "outputs": [
    {
     "data": {
      "text/plain": [
       "array([6, 5, 3, 3, 2])"
      ]
     },
     "execution_count": 45,
     "metadata": {},
     "output_type": "execute_result"
    }
   ],
   "source": [
    "array = np.array([2,3,5,3,6])\n",
    "merge_sort(array)"
   ]
  },
  {
   "cell_type": "code",
   "execution_count": 46,
   "metadata": {},
   "outputs": [],
   "source": [
    "def heapify(array, n, i):\n",
    "    smallest = i\n",
    "    l = 2*i+1\n",
    "    r = 2*i+2\n",
    "    if(l<n and array[l]<array[smallest]):\n",
    "        smallest = l\n",
    "    if(r<n and array[r]<array[smallest]):\n",
    "        smallest = r\n",
    "    if(smallest!=i):\n",
    "        array[i],array[smallest] = array[smallest], array[i]\n",
    "        heapify(array, n, smallest)"
   ]
  },
  {
   "cell_type": "code",
   "execution_count": 51,
   "metadata": {},
   "outputs": [],
   "source": [
    "def heap_sort(array):\n",
    "    n = array.shape[0]\n",
    "    for i in range(n-1,-1,-1):\n",
    "        heapify(array, n, i)\n",
    "    for i in range(n-1, 0, -1):\n",
    "        array[i], array[0] = array[0], array[i]\n",
    "        heapify(array, i, 0)\n",
    "    return array"
   ]
  },
  {
   "cell_type": "code",
   "execution_count": 52,
   "metadata": {},
   "outputs": [
    {
     "data": {
      "text/plain": [
       "array([6, 5, 3, 3, 2])"
      ]
     },
     "execution_count": 52,
     "metadata": {},
     "output_type": "execute_result"
    }
   ],
   "source": [
    "array = np.array([2,3,5,3,6])\n",
    "heap_sort(array)"
   ]
  },
  {
   "cell_type": "code",
   "execution_count": null,
   "metadata": {},
   "outputs": [],
   "source": []
  }
 ],
 "metadata": {
  "kernelspec": {
   "display_name": "Python 3",
   "language": "python",
   "name": "python3"
  },
  "language_info": {
   "codemirror_mode": {
    "name": "ipython",
    "version": 3
   },
   "file_extension": ".py",
   "mimetype": "text/x-python",
   "name": "python",
   "nbconvert_exporter": "python",
   "pygments_lexer": "ipython3",
   "version": "3.5.2"
  }
 },
 "nbformat": 4,
 "nbformat_minor": 2
}
