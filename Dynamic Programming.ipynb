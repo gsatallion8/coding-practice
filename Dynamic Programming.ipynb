{
 "cells": [
  {
   "cell_type": "code",
   "execution_count": 6,
   "metadata": {},
   "outputs": [],
   "source": [
    "# Longest common subsequence\n",
    "def LCS(X, Y):\n",
    "    if X == [] or Y == []:\n",
    "        return 0\n",
    "    if X[-1] == Y[-1]:\n",
    "        return 1+LCS(X[:-1],Y[:-1])\n",
    "    else:\n",
    "        return max(LCS(X[:-1],Y), LCS(X, Y[:-1]))"
   ]
  },
  {
   "cell_type": "code",
   "execution_count": 7,
   "metadata": {},
   "outputs": [
    {
     "data": {
      "text/plain": [
       "3"
      ]
     },
     "execution_count": 7,
     "metadata": {},
     "output_type": "execute_result"
    }
   ],
   "source": [
    "x = [1,2,3,4,8]\n",
    "y = [1,3,8]\n",
    "LCS(x,y)"
   ]
  },
  {
   "cell_type": "code",
   "execution_count": 8,
   "metadata": {},
   "outputs": [],
   "source": [
    "import numpy as np"
   ]
  },
  {
   "cell_type": "code",
   "execution_count": 17,
   "metadata": {},
   "outputs": [],
   "source": [
    "def LCS_iter(X,Y):\n",
    "    L = np.zeros((len(X)+1,len(Y)+1))\n",
    "    for i in range(len(X)):\n",
    "        for j in range(len(Y)):\n",
    "            if X[i] == Y[j]:\n",
    "                L[i,j] = 1 + L[i-1,j-1]\n",
    "            else:\n",
    "                L[i,j] = max(L[i-1,j], L[i,j-1])\n",
    "    \n",
    "    return L[-2,-2]"
   ]
  },
  {
   "cell_type": "code",
   "execution_count": 18,
   "metadata": {},
   "outputs": [
    {
     "data": {
      "text/plain": [
       "3.0"
      ]
     },
     "execution_count": 18,
     "metadata": {},
     "output_type": "execute_result"
    }
   ],
   "source": [
    "LCS_iter(x,y)"
   ]
  },
  {
   "cell_type": "code",
   "execution_count": 19,
   "metadata": {},
   "outputs": [],
   "source": [
    "# Longest increasing subsequence\n",
    "def LIS(X):\n",
    "    L = np.zeros(len(X))\n",
    "    L[0] = 1\n",
    "    max_l = 1\n",
    "    for i in range(1,len(X)):\n",
    "        max_val = 0\n",
    "        for j in range(i):\n",
    "            if X[j]<X[i]:\n",
    "                if L[j] > max_val:\n",
    "                    max_val = L[j]\n",
    "        \n",
    "        L[i] = 1 + max_val\n",
    "        if L[i]>max_l:\n",
    "            max_l = L[i]\n",
    "    \n",
    "    return max_l"
   ]
  },
  {
   "cell_type": "code",
   "execution_count": 20,
   "metadata": {},
   "outputs": [
    {
     "data": {
      "text/plain": [
       "3.0"
      ]
     },
     "execution_count": 20,
     "metadata": {},
     "output_type": "execute_result"
    }
   ],
   "source": [
    "LIS([3, 10, 2, 1, 20])"
   ]
  },
  {
   "cell_type": "code",
   "execution_count": 21,
   "metadata": {},
   "outputs": [
    {
     "data": {
      "text/plain": [
       "4.0"
      ]
     },
     "execution_count": 21,
     "metadata": {},
     "output_type": "execute_result"
    }
   ],
   "source": [
    "LIS([50, 3, 10, 7, 40, 80])"
   ]
  },
  {
   "cell_type": "code",
   "execution_count": 30,
   "metadata": {},
   "outputs": [],
   "source": [
    "# Subset sum problem\n",
    "def SSP(X, sum_val):\n",
    "    if len(X) == 0 and sum_val!=0:\n",
    "        return False\n",
    "    elif sum_val == 0:\n",
    "        return True\n",
    "    else:\n",
    "        return SSP(X[:-1],sum_val) or SSP(X[:-1],sum_val-X[-1])"
   ]
  },
  {
   "cell_type": "code",
   "execution_count": 35,
   "metadata": {},
   "outputs": [
    {
     "data": {
      "text/plain": [
       "False"
      ]
     },
     "execution_count": 35,
     "metadata": {},
     "output_type": "execute_result"
    }
   ],
   "source": [
    "SSP([3, 34, 4, 12, 5, 2], 35)"
   ]
  },
  {
   "cell_type": "code",
   "execution_count": null,
   "metadata": {},
   "outputs": [],
   "source": []
  }
 ],
 "metadata": {
  "kernelspec": {
   "display_name": "Python 3",
   "language": "python",
   "name": "python3"
  },
  "language_info": {
   "codemirror_mode": {
    "name": "ipython",
    "version": 3
   },
   "file_extension": ".py",
   "mimetype": "text/x-python",
   "name": "python",
   "nbconvert_exporter": "python",
   "pygments_lexer": "ipython3",
   "version": "3.5.2"
  }
 },
 "nbformat": 4,
 "nbformat_minor": 2
}
